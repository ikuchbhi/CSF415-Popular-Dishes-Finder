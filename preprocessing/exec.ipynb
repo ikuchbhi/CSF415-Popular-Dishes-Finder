{
 "cells": [
  {
   "cell_type": "code",
   "execution_count": 1,
   "metadata": {
    "ExecuteTime": {
     "end_time": "2024-04-09T09:31:36.501891Z",
     "start_time": "2024-04-09T09:31:36.049351Z"
    }
   },
   "outputs": [],
   "source": [
    "import pandas as pd"
   ]
  },
  {
   "cell_type": "code",
   "execution_count": 4,
   "metadata": {
    "ExecuteTime": {
     "end_time": "2024-04-09T09:32:08.156681Z",
     "start_time": "2024-04-09T09:32:06.700568Z"
    }
   },
   "outputs": [
    {
     "data": {
      "text/plain": "    res_id                            name      establishment  \\\n0  3400299                     Bikanervala    ['Quick Bites']   \n1  3400005  Mama Chicken Mama Franky House    ['Quick Bites']   \n2  3401013                   Bhagat Halwai    ['Quick Bites']   \n3  3400290                   Bhagat Halwai    ['Quick Bites']   \n4  3401744     The Salt Cafe Kitchen & Bar  ['Casual Dining']   \n\n                                                 url  \\\n0  https://www.zomato.com/agra/bikanervala-khanda...   \n1  https://www.zomato.com/agra/mama-chicken-mama-...   \n2  https://www.zomato.com/agra/bhagat-halwai-2-sh...   \n3  https://www.zomato.com/agra/bhagat-halwai-civi...   \n4  https://www.zomato.com/agra/the-salt-cafe-kitc...   \n\n                                             address  city  city_id  \\\n0  Kalyani Point, Near Tulsi Cinema, Bypass Road,...  Agra       34   \n1        Main Market, Sadar Bazaar, Agra Cantt, Agra  Agra       34   \n2  62/1, Near Easy Day, West Shivaji Nagar, Goalp...  Agra       34   \n3  Near Anjana Cinema, Nehru Nagar, Civil Lines, ...  Agra       34   \n4        1C,3rd Floor, Fatehabad Road, Tajganj, Agra  Agra       34   \n\n      locality   latitude  longitude  ... price_range  currency  \\\n0     Khandari  27.211450  78.002381  ...           2       Rs.   \n1   Agra Cantt  27.160569  78.011583  ...           2       Rs.   \n2     Shahganj  27.182938  77.979684  ...           1       Rs.   \n3  Civil Lines  27.205668  78.004799  ...           1       Rs.   \n4      Tajganj  27.157709  78.052421  ...           3       Rs.   \n\n                                          highlights aggregate_rating  \\\n0  ['Lunch', 'Takeaway Available', 'Credit Card',...              4.4   \n1  ['Delivery', 'No Alcohol Available', 'Dinner',...              4.4   \n2  ['No Alcohol Available', 'Dinner', 'Takeaway A...              4.2   \n3  ['Takeaway Available', 'Credit Card', 'Lunch',...              4.3   \n4  ['Lunch', 'Serves Alcohol', 'Cash', 'Credit Ca...              4.9   \n\n  rating_text  votes  photo_count opentable_support delivery  takeaway  \n0   Very Good    814          154               0.0       -1        -1  \n1   Very Good   1203          161               0.0       -1        -1  \n2   Very Good    801          107               0.0        1        -1  \n3   Very Good    693          157               0.0        1        -1  \n4   Excellent    470          291               0.0        1        -1  \n\n[5 rows x 26 columns]",
      "text/html": "<div>\n<style scoped>\n    .dataframe tbody tr th:only-of-type {\n        vertical-align: middle;\n    }\n\n    .dataframe tbody tr th {\n        vertical-align: top;\n    }\n\n    .dataframe thead th {\n        text-align: right;\n    }\n</style>\n<table border=\"1\" class=\"dataframe\">\n  <thead>\n    <tr style=\"text-align: right;\">\n      <th></th>\n      <th>res_id</th>\n      <th>name</th>\n      <th>establishment</th>\n      <th>url</th>\n      <th>address</th>\n      <th>city</th>\n      <th>city_id</th>\n      <th>locality</th>\n      <th>latitude</th>\n      <th>longitude</th>\n      <th>...</th>\n      <th>price_range</th>\n      <th>currency</th>\n      <th>highlights</th>\n      <th>aggregate_rating</th>\n      <th>rating_text</th>\n      <th>votes</th>\n      <th>photo_count</th>\n      <th>opentable_support</th>\n      <th>delivery</th>\n      <th>takeaway</th>\n    </tr>\n  </thead>\n  <tbody>\n    <tr>\n      <th>0</th>\n      <td>3400299</td>\n      <td>Bikanervala</td>\n      <td>['Quick Bites']</td>\n      <td>https://www.zomato.com/agra/bikanervala-khanda...</td>\n      <td>Kalyani Point, Near Tulsi Cinema, Bypass Road,...</td>\n      <td>Agra</td>\n      <td>34</td>\n      <td>Khandari</td>\n      <td>27.211450</td>\n      <td>78.002381</td>\n      <td>...</td>\n      <td>2</td>\n      <td>Rs.</td>\n      <td>['Lunch', 'Takeaway Available', 'Credit Card',...</td>\n      <td>4.4</td>\n      <td>Very Good</td>\n      <td>814</td>\n      <td>154</td>\n      <td>0.0</td>\n      <td>-1</td>\n      <td>-1</td>\n    </tr>\n    <tr>\n      <th>1</th>\n      <td>3400005</td>\n      <td>Mama Chicken Mama Franky House</td>\n      <td>['Quick Bites']</td>\n      <td>https://www.zomato.com/agra/mama-chicken-mama-...</td>\n      <td>Main Market, Sadar Bazaar, Agra Cantt, Agra</td>\n      <td>Agra</td>\n      <td>34</td>\n      <td>Agra Cantt</td>\n      <td>27.160569</td>\n      <td>78.011583</td>\n      <td>...</td>\n      <td>2</td>\n      <td>Rs.</td>\n      <td>['Delivery', 'No Alcohol Available', 'Dinner',...</td>\n      <td>4.4</td>\n      <td>Very Good</td>\n      <td>1203</td>\n      <td>161</td>\n      <td>0.0</td>\n      <td>-1</td>\n      <td>-1</td>\n    </tr>\n    <tr>\n      <th>2</th>\n      <td>3401013</td>\n      <td>Bhagat Halwai</td>\n      <td>['Quick Bites']</td>\n      <td>https://www.zomato.com/agra/bhagat-halwai-2-sh...</td>\n      <td>62/1, Near Easy Day, West Shivaji Nagar, Goalp...</td>\n      <td>Agra</td>\n      <td>34</td>\n      <td>Shahganj</td>\n      <td>27.182938</td>\n      <td>77.979684</td>\n      <td>...</td>\n      <td>1</td>\n      <td>Rs.</td>\n      <td>['No Alcohol Available', 'Dinner', 'Takeaway A...</td>\n      <td>4.2</td>\n      <td>Very Good</td>\n      <td>801</td>\n      <td>107</td>\n      <td>0.0</td>\n      <td>1</td>\n      <td>-1</td>\n    </tr>\n    <tr>\n      <th>3</th>\n      <td>3400290</td>\n      <td>Bhagat Halwai</td>\n      <td>['Quick Bites']</td>\n      <td>https://www.zomato.com/agra/bhagat-halwai-civi...</td>\n      <td>Near Anjana Cinema, Nehru Nagar, Civil Lines, ...</td>\n      <td>Agra</td>\n      <td>34</td>\n      <td>Civil Lines</td>\n      <td>27.205668</td>\n      <td>78.004799</td>\n      <td>...</td>\n      <td>1</td>\n      <td>Rs.</td>\n      <td>['Takeaway Available', 'Credit Card', 'Lunch',...</td>\n      <td>4.3</td>\n      <td>Very Good</td>\n      <td>693</td>\n      <td>157</td>\n      <td>0.0</td>\n      <td>1</td>\n      <td>-1</td>\n    </tr>\n    <tr>\n      <th>4</th>\n      <td>3401744</td>\n      <td>The Salt Cafe Kitchen &amp; Bar</td>\n      <td>['Casual Dining']</td>\n      <td>https://www.zomato.com/agra/the-salt-cafe-kitc...</td>\n      <td>1C,3rd Floor, Fatehabad Road, Tajganj, Agra</td>\n      <td>Agra</td>\n      <td>34</td>\n      <td>Tajganj</td>\n      <td>27.157709</td>\n      <td>78.052421</td>\n      <td>...</td>\n      <td>3</td>\n      <td>Rs.</td>\n      <td>['Lunch', 'Serves Alcohol', 'Cash', 'Credit Ca...</td>\n      <td>4.9</td>\n      <td>Excellent</td>\n      <td>470</td>\n      <td>291</td>\n      <td>0.0</td>\n      <td>1</td>\n      <td>-1</td>\n    </tr>\n  </tbody>\n</table>\n<p>5 rows × 26 columns</p>\n</div>"
     },
     "execution_count": 4,
     "metadata": {},
     "output_type": "execute_result"
    }
   ],
   "source": [
    "df = pd.read_csv('../zomato.csv')\n",
    "df.head()"
   ]
  },
  {
   "cell_type": "code",
   "outputs": [
    {
     "data": {
      "text/plain": "    res_id                            name      establishment  \\\n0  3400299                     Bikanervala    ['Quick Bites']   \n1  3400005  Mama Chicken Mama Franky House    ['Quick Bites']   \n2  3401013                   Bhagat Halwai    ['Quick Bites']   \n3  3400290                   Bhagat Halwai    ['Quick Bites']   \n4  3401744     The Salt Cafe Kitchen & Bar  ['Casual Dining']   \n\n                                                 url  \\\n0  https://www.zomato.com/agra/bikanervala-khanda...   \n1  https://www.zomato.com/agra/mama-chicken-mama-...   \n2  https://www.zomato.com/agra/bhagat-halwai-2-sh...   \n3  https://www.zomato.com/agra/bhagat-halwai-civi...   \n4  https://www.zomato.com/agra/the-salt-cafe-kitc...   \n\n                                             address  city  city_id  \\\n0  Kalyani Point, Near Tulsi Cinema, Bypass Road,...  Agra       34   \n1        Main Market, Sadar Bazaar, Agra Cantt, Agra  Agra       34   \n2  62/1, Near Easy Day, West Shivaji Nagar, Goalp...  Agra       34   \n3  Near Anjana Cinema, Nehru Nagar, Civil Lines, ...  Agra       34   \n4        1C,3rd Floor, Fatehabad Road, Tajganj, Agra  Agra       34   \n\n      locality   latitude  longitude  ... price_range  currency  \\\n0     Khandari  27.211450  78.002381  ...           2       Rs.   \n1   Agra Cantt  27.160569  78.011583  ...           2       Rs.   \n2     Shahganj  27.182938  77.979684  ...           1       Rs.   \n3  Civil Lines  27.205668  78.004799  ...           1       Rs.   \n4      Tajganj  27.157709  78.052421  ...           3       Rs.   \n\n                                          highlights aggregate_rating  \\\n0  ['Lunch', 'Takeaway Available', 'Credit Card',...              4.4   \n1  ['Delivery', 'No Alcohol Available', 'Dinner',...              4.4   \n2  ['No Alcohol Available', 'Dinner', 'Takeaway A...              4.2   \n3  ['Takeaway Available', 'Credit Card', 'Lunch',...              4.3   \n4  ['Lunch', 'Serves Alcohol', 'Cash', 'Credit Ca...              4.9   \n\n  rating_text  votes  photo_count opentable_support delivery  takeaway  \n0   Very Good    814          154               0.0       -1        -1  \n1   Very Good   1203          161               0.0       -1        -1  \n2   Very Good    801          107               0.0        1        -1  \n3   Very Good    693          157               0.0        1        -1  \n4   Excellent    470          291               0.0        1        -1  \n\n[5 rows x 26 columns]",
      "text/html": "<div>\n<style scoped>\n    .dataframe tbody tr th:only-of-type {\n        vertical-align: middle;\n    }\n\n    .dataframe tbody tr th {\n        vertical-align: top;\n    }\n\n    .dataframe thead th {\n        text-align: right;\n    }\n</style>\n<table border=\"1\" class=\"dataframe\">\n  <thead>\n    <tr style=\"text-align: right;\">\n      <th></th>\n      <th>res_id</th>\n      <th>name</th>\n      <th>establishment</th>\n      <th>url</th>\n      <th>address</th>\n      <th>city</th>\n      <th>city_id</th>\n      <th>locality</th>\n      <th>latitude</th>\n      <th>longitude</th>\n      <th>...</th>\n      <th>price_range</th>\n      <th>currency</th>\n      <th>highlights</th>\n      <th>aggregate_rating</th>\n      <th>rating_text</th>\n      <th>votes</th>\n      <th>photo_count</th>\n      <th>opentable_support</th>\n      <th>delivery</th>\n      <th>takeaway</th>\n    </tr>\n  </thead>\n  <tbody>\n    <tr>\n      <th>0</th>\n      <td>3400299</td>\n      <td>Bikanervala</td>\n      <td>['Quick Bites']</td>\n      <td>https://www.zomato.com/agra/bikanervala-khanda...</td>\n      <td>Kalyani Point, Near Tulsi Cinema, Bypass Road,...</td>\n      <td>Agra</td>\n      <td>34</td>\n      <td>Khandari</td>\n      <td>27.211450</td>\n      <td>78.002381</td>\n      <td>...</td>\n      <td>2</td>\n      <td>Rs.</td>\n      <td>['Lunch', 'Takeaway Available', 'Credit Card',...</td>\n      <td>4.4</td>\n      <td>Very Good</td>\n      <td>814</td>\n      <td>154</td>\n      <td>0.0</td>\n      <td>-1</td>\n      <td>-1</td>\n    </tr>\n    <tr>\n      <th>1</th>\n      <td>3400005</td>\n      <td>Mama Chicken Mama Franky House</td>\n      <td>['Quick Bites']</td>\n      <td>https://www.zomato.com/agra/mama-chicken-mama-...</td>\n      <td>Main Market, Sadar Bazaar, Agra Cantt, Agra</td>\n      <td>Agra</td>\n      <td>34</td>\n      <td>Agra Cantt</td>\n      <td>27.160569</td>\n      <td>78.011583</td>\n      <td>...</td>\n      <td>2</td>\n      <td>Rs.</td>\n      <td>['Delivery', 'No Alcohol Available', 'Dinner',...</td>\n      <td>4.4</td>\n      <td>Very Good</td>\n      <td>1203</td>\n      <td>161</td>\n      <td>0.0</td>\n      <td>-1</td>\n      <td>-1</td>\n    </tr>\n    <tr>\n      <th>2</th>\n      <td>3401013</td>\n      <td>Bhagat Halwai</td>\n      <td>['Quick Bites']</td>\n      <td>https://www.zomato.com/agra/bhagat-halwai-2-sh...</td>\n      <td>62/1, Near Easy Day, West Shivaji Nagar, Goalp...</td>\n      <td>Agra</td>\n      <td>34</td>\n      <td>Shahganj</td>\n      <td>27.182938</td>\n      <td>77.979684</td>\n      <td>...</td>\n      <td>1</td>\n      <td>Rs.</td>\n      <td>['No Alcohol Available', 'Dinner', 'Takeaway A...</td>\n      <td>4.2</td>\n      <td>Very Good</td>\n      <td>801</td>\n      <td>107</td>\n      <td>0.0</td>\n      <td>1</td>\n      <td>-1</td>\n    </tr>\n    <tr>\n      <th>3</th>\n      <td>3400290</td>\n      <td>Bhagat Halwai</td>\n      <td>['Quick Bites']</td>\n      <td>https://www.zomato.com/agra/bhagat-halwai-civi...</td>\n      <td>Near Anjana Cinema, Nehru Nagar, Civil Lines, ...</td>\n      <td>Agra</td>\n      <td>34</td>\n      <td>Civil Lines</td>\n      <td>27.205668</td>\n      <td>78.004799</td>\n      <td>...</td>\n      <td>1</td>\n      <td>Rs.</td>\n      <td>['Takeaway Available', 'Credit Card', 'Lunch',...</td>\n      <td>4.3</td>\n      <td>Very Good</td>\n      <td>693</td>\n      <td>157</td>\n      <td>0.0</td>\n      <td>1</td>\n      <td>-1</td>\n    </tr>\n    <tr>\n      <th>4</th>\n      <td>3401744</td>\n      <td>The Salt Cafe Kitchen &amp; Bar</td>\n      <td>['Casual Dining']</td>\n      <td>https://www.zomato.com/agra/the-salt-cafe-kitc...</td>\n      <td>1C,3rd Floor, Fatehabad Road, Tajganj, Agra</td>\n      <td>Agra</td>\n      <td>34</td>\n      <td>Tajganj</td>\n      <td>27.157709</td>\n      <td>78.052421</td>\n      <td>...</td>\n      <td>3</td>\n      <td>Rs.</td>\n      <td>['Lunch', 'Serves Alcohol', 'Cash', 'Credit Ca...</td>\n      <td>4.9</td>\n      <td>Excellent</td>\n      <td>470</td>\n      <td>291</td>\n      <td>0.0</td>\n      <td>1</td>\n      <td>-1</td>\n    </tr>\n  </tbody>\n</table>\n<p>5 rows × 26 columns</p>\n</div>"
     },
     "execution_count": 5,
     "metadata": {},
     "output_type": "execute_result"
    }
   ],
   "source": [
    "df.head()"
   ],
   "metadata": {
    "collapsed": false,
    "ExecuteTime": {
     "end_time": "2024-04-09T09:41:55.017704Z",
     "start_time": "2024-04-09T09:41:55.000535Z"
    }
   },
   "execution_count": 5
  },
  {
   "cell_type": "code",
   "outputs": [],
   "source": [
    "df.drop(columns=['res_id','establishment','url','address','latitude','longitude','zipcode','country_id','timings','currency','highlights','opentable_support','delivery','takeaway'], inplace=True,axis=1)"
   ],
   "metadata": {
    "collapsed": false,
    "ExecuteTime": {
     "end_time": "2024-04-09T09:46:34.596519Z",
     "start_time": "2024-04-09T09:46:34.576185Z"
    }
   },
   "execution_count": 6
  },
  {
   "cell_type": "code",
   "outputs": [
    {
     "data": {
      "text/plain": "                             name  city  city_id     locality  \\\n0                     Bikanervala  Agra       34     Khandari   \n1  Mama Chicken Mama Franky House  Agra       34   Agra Cantt   \n2                   Bhagat Halwai  Agra       34     Shahganj   \n3                   Bhagat Halwai  Agra       34  Civil Lines   \n4     The Salt Cafe Kitchen & Bar  Agra       34      Tajganj   \n\n    locality_verbose                                           cuisines  \\\n0     Khandari, Agra  North Indian, South Indian, Mithai, Street Foo...   \n1   Agra Cantt, Agra  North Indian, Mughlai, Rolls, Chinese, Fast Fo...   \n2     Shahganj, Agra                                  Fast Food, Mithai   \n3  Civil Lines, Agra          Desserts, Bakery, Fast Food, South Indian   \n4      Tajganj, Agra                 North Indian, Continental, Italian   \n\n   average_cost_for_two  price_range  aggregate_rating rating_text  votes  \\\n0                   700            2               4.4   Very Good    814   \n1                   600            2               4.4   Very Good   1203   \n2                   300            1               4.2   Very Good    801   \n3                   300            1               4.3   Very Good    693   \n4                  1000            3               4.9   Excellent    470   \n\n   photo_count  \n0          154  \n1          161  \n2          107  \n3          157  \n4          291  ",
      "text/html": "<div>\n<style scoped>\n    .dataframe tbody tr th:only-of-type {\n        vertical-align: middle;\n    }\n\n    .dataframe tbody tr th {\n        vertical-align: top;\n    }\n\n    .dataframe thead th {\n        text-align: right;\n    }\n</style>\n<table border=\"1\" class=\"dataframe\">\n  <thead>\n    <tr style=\"text-align: right;\">\n      <th></th>\n      <th>name</th>\n      <th>city</th>\n      <th>city_id</th>\n      <th>locality</th>\n      <th>locality_verbose</th>\n      <th>cuisines</th>\n      <th>average_cost_for_two</th>\n      <th>price_range</th>\n      <th>aggregate_rating</th>\n      <th>rating_text</th>\n      <th>votes</th>\n      <th>photo_count</th>\n    </tr>\n  </thead>\n  <tbody>\n    <tr>\n      <th>0</th>\n      <td>Bikanervala</td>\n      <td>Agra</td>\n      <td>34</td>\n      <td>Khandari</td>\n      <td>Khandari, Agra</td>\n      <td>North Indian, South Indian, Mithai, Street Foo...</td>\n      <td>700</td>\n      <td>2</td>\n      <td>4.4</td>\n      <td>Very Good</td>\n      <td>814</td>\n      <td>154</td>\n    </tr>\n    <tr>\n      <th>1</th>\n      <td>Mama Chicken Mama Franky House</td>\n      <td>Agra</td>\n      <td>34</td>\n      <td>Agra Cantt</td>\n      <td>Agra Cantt, Agra</td>\n      <td>North Indian, Mughlai, Rolls, Chinese, Fast Fo...</td>\n      <td>600</td>\n      <td>2</td>\n      <td>4.4</td>\n      <td>Very Good</td>\n      <td>1203</td>\n      <td>161</td>\n    </tr>\n    <tr>\n      <th>2</th>\n      <td>Bhagat Halwai</td>\n      <td>Agra</td>\n      <td>34</td>\n      <td>Shahganj</td>\n      <td>Shahganj, Agra</td>\n      <td>Fast Food, Mithai</td>\n      <td>300</td>\n      <td>1</td>\n      <td>4.2</td>\n      <td>Very Good</td>\n      <td>801</td>\n      <td>107</td>\n    </tr>\n    <tr>\n      <th>3</th>\n      <td>Bhagat Halwai</td>\n      <td>Agra</td>\n      <td>34</td>\n      <td>Civil Lines</td>\n      <td>Civil Lines, Agra</td>\n      <td>Desserts, Bakery, Fast Food, South Indian</td>\n      <td>300</td>\n      <td>1</td>\n      <td>4.3</td>\n      <td>Very Good</td>\n      <td>693</td>\n      <td>157</td>\n    </tr>\n    <tr>\n      <th>4</th>\n      <td>The Salt Cafe Kitchen &amp; Bar</td>\n      <td>Agra</td>\n      <td>34</td>\n      <td>Tajganj</td>\n      <td>Tajganj, Agra</td>\n      <td>North Indian, Continental, Italian</td>\n      <td>1000</td>\n      <td>3</td>\n      <td>4.9</td>\n      <td>Excellent</td>\n      <td>470</td>\n      <td>291</td>\n    </tr>\n  </tbody>\n</table>\n</div>"
     },
     "execution_count": 7,
     "metadata": {},
     "output_type": "execute_result"
    }
   ],
   "source": [
    "df.head()"
   ],
   "metadata": {
    "collapsed": false,
    "ExecuteTime": {
     "end_time": "2024-04-09T09:46:38.433137Z",
     "start_time": "2024-04-09T09:46:38.424307Z"
    }
   },
   "execution_count": 7
  },
  {
   "cell_type": "code",
   "outputs": [
    {
     "name": "stdout",
     "output_type": "stream",
     "text": [
      "<class 'pandas.core.frame.DataFrame'>\n",
      "RangeIndex: 211944 entries, 0 to 211943\n",
      "Data columns (total 12 columns):\n",
      " #   Column                Non-Null Count   Dtype  \n",
      "---  ------                --------------   -----  \n",
      " 0   name                  211944 non-null  object \n",
      " 1   city                  211944 non-null  object \n",
      " 2   city_id               211944 non-null  int64  \n",
      " 3   locality              211944 non-null  object \n",
      " 4   locality_verbose      211944 non-null  object \n",
      " 5   cuisines              210553 non-null  object \n",
      " 6   average_cost_for_two  211944 non-null  int64  \n",
      " 7   price_range           211944 non-null  int64  \n",
      " 8   aggregate_rating      211944 non-null  float64\n",
      " 9   rating_text           211944 non-null  object \n",
      " 10  votes                 211944 non-null  int64  \n",
      " 11  photo_count           211944 non-null  int64  \n",
      "dtypes: float64(1), int64(5), object(6)\n",
      "memory usage: 19.4+ MB\n"
     ]
    }
   ],
   "source": [
    "df.info()"
   ],
   "metadata": {
    "collapsed": false,
    "ExecuteTime": {
     "end_time": "2024-04-09T09:47:32.765568Z",
     "start_time": "2024-04-09T09:47:32.703441Z"
    }
   },
   "execution_count": 8
  },
  {
   "cell_type": "code",
   "outputs": [],
   "source": [
    "df.drop_duplicates(inplace=True)"
   ],
   "metadata": {
    "collapsed": false,
    "ExecuteTime": {
     "end_time": "2024-04-09T09:48:27.570744Z",
     "start_time": "2024-04-09T09:48:27.414359Z"
    }
   },
   "execution_count": 12
  },
  {
   "cell_type": "code",
   "outputs": [
    {
     "name": "stdout",
     "output_type": "stream",
     "text": [
      "<class 'pandas.core.frame.DataFrame'>\n",
      "Index: 56185 entries, 0 to 211942\n",
      "Data columns (total 12 columns):\n",
      " #   Column                Non-Null Count  Dtype  \n",
      "---  ------                --------------  -----  \n",
      " 0   name                  56185 non-null  object \n",
      " 1   city                  56185 non-null  object \n",
      " 2   city_id               56185 non-null  int64  \n",
      " 3   locality              56185 non-null  object \n",
      " 4   locality_verbose      56185 non-null  object \n",
      " 5   cuisines              55719 non-null  object \n",
      " 6   average_cost_for_two  56185 non-null  int64  \n",
      " 7   price_range           56185 non-null  int64  \n",
      " 8   aggregate_rating      56185 non-null  float64\n",
      " 9   rating_text           56185 non-null  object \n",
      " 10  votes                 56185 non-null  int64  \n",
      " 11  photo_count           56185 non-null  int64  \n",
      "dtypes: float64(1), int64(5), object(6)\n",
      "memory usage: 5.6+ MB\n"
     ]
    }
   ],
   "source": [
    "df.info()"
   ],
   "metadata": {
    "collapsed": false,
    "ExecuteTime": {
     "end_time": "2024-04-09T09:48:28.467657Z",
     "start_time": "2024-04-09T09:48:28.444484Z"
    }
   },
   "execution_count": 13
  },
  {
   "cell_type": "code",
   "outputs": [
    {
     "data": {
      "text/plain": "                             name  city  city_id     locality  \\\n0                     Bikanervala  Agra       34     Khandari   \n1  Mama Chicken Mama Franky House  Agra       34   Agra Cantt   \n2                   Bhagat Halwai  Agra       34     Shahganj   \n3                   Bhagat Halwai  Agra       34  Civil Lines   \n4     The Salt Cafe Kitchen & Bar  Agra       34      Tajganj   \n\n    locality_verbose                                           cuisines  \\\n0     Khandari, Agra  North Indian, South Indian, Mithai, Street Foo...   \n1   Agra Cantt, Agra  North Indian, Mughlai, Rolls, Chinese, Fast Fo...   \n2     Shahganj, Agra                                  Fast Food, Mithai   \n3  Civil Lines, Agra          Desserts, Bakery, Fast Food, South Indian   \n4      Tajganj, Agra                 North Indian, Continental, Italian   \n\n   average_cost_for_two  price_range  aggregate_rating rating_text  votes  \\\n0                   700            2               4.4   Very Good    814   \n1                   600            2               4.4   Very Good   1203   \n2                   300            1               4.2   Very Good    801   \n3                   300            1               4.3   Very Good    693   \n4                  1000            3               4.9   Excellent    470   \n\n   photo_count  \n0          154  \n1          161  \n2          107  \n3          157  \n4          291  ",
      "text/html": "<div>\n<style scoped>\n    .dataframe tbody tr th:only-of-type {\n        vertical-align: middle;\n    }\n\n    .dataframe tbody tr th {\n        vertical-align: top;\n    }\n\n    .dataframe thead th {\n        text-align: right;\n    }\n</style>\n<table border=\"1\" class=\"dataframe\">\n  <thead>\n    <tr style=\"text-align: right;\">\n      <th></th>\n      <th>name</th>\n      <th>city</th>\n      <th>city_id</th>\n      <th>locality</th>\n      <th>locality_verbose</th>\n      <th>cuisines</th>\n      <th>average_cost_for_two</th>\n      <th>price_range</th>\n      <th>aggregate_rating</th>\n      <th>rating_text</th>\n      <th>votes</th>\n      <th>photo_count</th>\n    </tr>\n  </thead>\n  <tbody>\n    <tr>\n      <th>0</th>\n      <td>Bikanervala</td>\n      <td>Agra</td>\n      <td>34</td>\n      <td>Khandari</td>\n      <td>Khandari, Agra</td>\n      <td>North Indian, South Indian, Mithai, Street Foo...</td>\n      <td>700</td>\n      <td>2</td>\n      <td>4.4</td>\n      <td>Very Good</td>\n      <td>814</td>\n      <td>154</td>\n    </tr>\n    <tr>\n      <th>1</th>\n      <td>Mama Chicken Mama Franky House</td>\n      <td>Agra</td>\n      <td>34</td>\n      <td>Agra Cantt</td>\n      <td>Agra Cantt, Agra</td>\n      <td>North Indian, Mughlai, Rolls, Chinese, Fast Fo...</td>\n      <td>600</td>\n      <td>2</td>\n      <td>4.4</td>\n      <td>Very Good</td>\n      <td>1203</td>\n      <td>161</td>\n    </tr>\n    <tr>\n      <th>2</th>\n      <td>Bhagat Halwai</td>\n      <td>Agra</td>\n      <td>34</td>\n      <td>Shahganj</td>\n      <td>Shahganj, Agra</td>\n      <td>Fast Food, Mithai</td>\n      <td>300</td>\n      <td>1</td>\n      <td>4.2</td>\n      <td>Very Good</td>\n      <td>801</td>\n      <td>107</td>\n    </tr>\n    <tr>\n      <th>3</th>\n      <td>Bhagat Halwai</td>\n      <td>Agra</td>\n      <td>34</td>\n      <td>Civil Lines</td>\n      <td>Civil Lines, Agra</td>\n      <td>Desserts, Bakery, Fast Food, South Indian</td>\n      <td>300</td>\n      <td>1</td>\n      <td>4.3</td>\n      <td>Very Good</td>\n      <td>693</td>\n      <td>157</td>\n    </tr>\n    <tr>\n      <th>4</th>\n      <td>The Salt Cafe Kitchen &amp; Bar</td>\n      <td>Agra</td>\n      <td>34</td>\n      <td>Tajganj</td>\n      <td>Tajganj, Agra</td>\n      <td>North Indian, Continental, Italian</td>\n      <td>1000</td>\n      <td>3</td>\n      <td>4.9</td>\n      <td>Excellent</td>\n      <td>470</td>\n      <td>291</td>\n    </tr>\n  </tbody>\n</table>\n</div>"
     },
     "execution_count": 14,
     "metadata": {},
     "output_type": "execute_result"
    }
   ],
   "source": [
    "df.head()"
   ],
   "metadata": {
    "collapsed": false,
    "ExecuteTime": {
     "end_time": "2024-04-09T09:48:42.394307Z",
     "start_time": "2024-04-09T09:48:42.381564Z"
    }
   },
   "execution_count": 14
  },
  {
   "cell_type": "code",
   "outputs": [],
   "source": [
    "df.drop(columns=['city_id','price_range'],axis=1,inplace=True)"
   ],
   "metadata": {
    "collapsed": false,
    "ExecuteTime": {
     "end_time": "2024-04-09T09:53:22.001320Z",
     "start_time": "2024-04-09T09:53:21.991674Z"
    }
   },
   "execution_count": 15
  },
  {
   "cell_type": "code",
   "outputs": [
    {
     "data": {
      "text/plain": "<bound method IndexOpsMixin.value_counts of 0         False\n1         False\n2         False\n3         False\n4         False\n          ...  \n211882    False\n211925    False\n211926    False\n211940    False\n211942    False\nName: cuisines, Length: 56185, dtype: bool>"
     },
     "execution_count": 19,
     "metadata": {},
     "output_type": "execute_result"
    }
   ],
   "source": [
    "df.cuisines.isna().value_counts"
   ],
   "metadata": {
    "collapsed": false,
    "ExecuteTime": {
     "end_time": "2024-04-09T09:54:14.273010Z",
     "start_time": "2024-04-09T09:54:14.263896Z"
    }
   },
   "execution_count": 19
  },
  {
   "cell_type": "code",
   "outputs": [],
   "source": [
    "df['cuisines'].fillna(\"no cuisine\", inplace=True)"
   ],
   "metadata": {
    "collapsed": false,
    "ExecuteTime": {
     "end_time": "2024-04-09T09:55:23.155291Z",
     "start_time": "2024-04-09T09:55:23.147534Z"
    }
   },
   "execution_count": 21
  },
  {
   "cell_type": "code",
   "outputs": [
    {
     "data": {
      "text/plain": "                                  name      city     locality  \\\n0                          Bikanervala      Agra     Khandari   \n1       Mama Chicken Mama Franky House      Agra   Agra Cantt   \n2                        Bhagat Halwai      Agra     Shahganj   \n3                        Bhagat Halwai      Agra  Civil Lines   \n4          The Salt Cafe Kitchen & Bar      Agra      Tajganj   \n...                                ...       ...          ...   \n211882           Shree Janta Ice Cream  Vadodara    Manjalpur   \n211925                The Grand Thakar  Vadodara     Alkapuri   \n211926                     Geeta lodge  Vadodara     Alkapuri   \n211940                      Raju Omlet  Vadodara   Karelibaug   \n211942                          Subway  Vadodara        Akota   \n\n            locality_verbose  \\\n0             Khandari, Agra   \n1           Agra Cantt, Agra   \n2             Shahganj, Agra   \n3          Civil Lines, Agra   \n4              Tajganj, Agra   \n...                      ...   \n211882   Manjalpur, Vadodara   \n211925    Alkapuri, Vadodara   \n211926    Alkapuri, Vadodara   \n211940  Karelibaug, Vadodara   \n211942       Akota, Vadodara   \n\n                                                 cuisines  \\\n0       North Indian, South Indian, Mithai, Street Foo...   \n1       North Indian, Mughlai, Rolls, Chinese, Fast Fo...   \n2                                       Fast Food, Mithai   \n3               Desserts, Bakery, Fast Food, South Indian   \n4                      North Indian, Continental, Italian   \n...                                                   ...   \n211882                                          Ice Cream   \n211925                    Gujarati, North Indian, Chinese   \n211926                              Gujarati, Street Food   \n211940                                          Fast Food   \n211942                         Fast Food, Sandwich, Salad   \n\n        average_cost_for_two  aggregate_rating rating_text  votes  photo_count  \n0                        700               4.4   Very Good    814          154  \n1                        600               4.4   Very Good   1203          161  \n2                        300               4.2   Very Good    801          107  \n3                        300               4.3   Very Good    693          157  \n4                       1000               4.9   Excellent    470          291  \n...                      ...               ...         ...    ...          ...  \n211882                   200               2.9     Average      4            1  \n211925                   700               4.0   Very Good    111           38  \n211926                   250               3.9        Good    207           14  \n211940                   300               4.1   Very Good    187           40  \n211942                   500               3.7        Good    128           34  \n\n[56185 rows x 10 columns]",
      "text/html": "<div>\n<style scoped>\n    .dataframe tbody tr th:only-of-type {\n        vertical-align: middle;\n    }\n\n    .dataframe tbody tr th {\n        vertical-align: top;\n    }\n\n    .dataframe thead th {\n        text-align: right;\n    }\n</style>\n<table border=\"1\" class=\"dataframe\">\n  <thead>\n    <tr style=\"text-align: right;\">\n      <th></th>\n      <th>name</th>\n      <th>city</th>\n      <th>locality</th>\n      <th>locality_verbose</th>\n      <th>cuisines</th>\n      <th>average_cost_for_two</th>\n      <th>aggregate_rating</th>\n      <th>rating_text</th>\n      <th>votes</th>\n      <th>photo_count</th>\n    </tr>\n  </thead>\n  <tbody>\n    <tr>\n      <th>0</th>\n      <td>Bikanervala</td>\n      <td>Agra</td>\n      <td>Khandari</td>\n      <td>Khandari, Agra</td>\n      <td>North Indian, South Indian, Mithai, Street Foo...</td>\n      <td>700</td>\n      <td>4.4</td>\n      <td>Very Good</td>\n      <td>814</td>\n      <td>154</td>\n    </tr>\n    <tr>\n      <th>1</th>\n      <td>Mama Chicken Mama Franky House</td>\n      <td>Agra</td>\n      <td>Agra Cantt</td>\n      <td>Agra Cantt, Agra</td>\n      <td>North Indian, Mughlai, Rolls, Chinese, Fast Fo...</td>\n      <td>600</td>\n      <td>4.4</td>\n      <td>Very Good</td>\n      <td>1203</td>\n      <td>161</td>\n    </tr>\n    <tr>\n      <th>2</th>\n      <td>Bhagat Halwai</td>\n      <td>Agra</td>\n      <td>Shahganj</td>\n      <td>Shahganj, Agra</td>\n      <td>Fast Food, Mithai</td>\n      <td>300</td>\n      <td>4.2</td>\n      <td>Very Good</td>\n      <td>801</td>\n      <td>107</td>\n    </tr>\n    <tr>\n      <th>3</th>\n      <td>Bhagat Halwai</td>\n      <td>Agra</td>\n      <td>Civil Lines</td>\n      <td>Civil Lines, Agra</td>\n      <td>Desserts, Bakery, Fast Food, South Indian</td>\n      <td>300</td>\n      <td>4.3</td>\n      <td>Very Good</td>\n      <td>693</td>\n      <td>157</td>\n    </tr>\n    <tr>\n      <th>4</th>\n      <td>The Salt Cafe Kitchen &amp; Bar</td>\n      <td>Agra</td>\n      <td>Tajganj</td>\n      <td>Tajganj, Agra</td>\n      <td>North Indian, Continental, Italian</td>\n      <td>1000</td>\n      <td>4.9</td>\n      <td>Excellent</td>\n      <td>470</td>\n      <td>291</td>\n    </tr>\n    <tr>\n      <th>...</th>\n      <td>...</td>\n      <td>...</td>\n      <td>...</td>\n      <td>...</td>\n      <td>...</td>\n      <td>...</td>\n      <td>...</td>\n      <td>...</td>\n      <td>...</td>\n      <td>...</td>\n    </tr>\n    <tr>\n      <th>211882</th>\n      <td>Shree Janta Ice Cream</td>\n      <td>Vadodara</td>\n      <td>Manjalpur</td>\n      <td>Manjalpur, Vadodara</td>\n      <td>Ice Cream</td>\n      <td>200</td>\n      <td>2.9</td>\n      <td>Average</td>\n      <td>4</td>\n      <td>1</td>\n    </tr>\n    <tr>\n      <th>211925</th>\n      <td>The Grand Thakar</td>\n      <td>Vadodara</td>\n      <td>Alkapuri</td>\n      <td>Alkapuri, Vadodara</td>\n      <td>Gujarati, North Indian, Chinese</td>\n      <td>700</td>\n      <td>4.0</td>\n      <td>Very Good</td>\n      <td>111</td>\n      <td>38</td>\n    </tr>\n    <tr>\n      <th>211926</th>\n      <td>Geeta lodge</td>\n      <td>Vadodara</td>\n      <td>Alkapuri</td>\n      <td>Alkapuri, Vadodara</td>\n      <td>Gujarati, Street Food</td>\n      <td>250</td>\n      <td>3.9</td>\n      <td>Good</td>\n      <td>207</td>\n      <td>14</td>\n    </tr>\n    <tr>\n      <th>211940</th>\n      <td>Raju Omlet</td>\n      <td>Vadodara</td>\n      <td>Karelibaug</td>\n      <td>Karelibaug, Vadodara</td>\n      <td>Fast Food</td>\n      <td>300</td>\n      <td>4.1</td>\n      <td>Very Good</td>\n      <td>187</td>\n      <td>40</td>\n    </tr>\n    <tr>\n      <th>211942</th>\n      <td>Subway</td>\n      <td>Vadodara</td>\n      <td>Akota</td>\n      <td>Akota, Vadodara</td>\n      <td>Fast Food, Sandwich, Salad</td>\n      <td>500</td>\n      <td>3.7</td>\n      <td>Good</td>\n      <td>128</td>\n      <td>34</td>\n    </tr>\n  </tbody>\n</table>\n<p>56185 rows × 10 columns</p>\n</div>"
     },
     "execution_count": 22,
     "metadata": {},
     "output_type": "execute_result"
    }
   ],
   "source": [
    "df"
   ],
   "metadata": {
    "collapsed": false,
    "ExecuteTime": {
     "end_time": "2024-04-09T09:55:26.487316Z",
     "start_time": "2024-04-09T09:55:26.477884Z"
    }
   },
   "execution_count": 22
  },
  {
   "cell_type": "code",
   "outputs": [
    {
     "data": {
      "text/plain": "cuisines\nFalse    56185\nName: count, dtype: int64"
     },
     "execution_count": 23,
     "metadata": {},
     "output_type": "execute_result"
    }
   ],
   "source": [
    "df.cuisines.isna().value_counts()"
   ],
   "metadata": {
    "collapsed": false,
    "ExecuteTime": {
     "end_time": "2024-04-09T09:55:48.705112Z",
     "start_time": "2024-04-09T09:55:48.695623Z"
    }
   },
   "execution_count": 23
  },
  {
   "cell_type": "code",
   "outputs": [],
   "source": [
    "df.drop(columns=['locality_verbose'], inplace=True)"
   ],
   "metadata": {
    "collapsed": false,
    "ExecuteTime": {
     "end_time": "2024-04-09T09:58:17.828630Z",
     "start_time": "2024-04-09T09:58:17.816321Z"
    }
   },
   "execution_count": 25
  },
  {
   "cell_type": "code",
   "outputs": [
    {
     "data": {
      "text/plain": "                                  name      city     locality  \\\n0                          Bikanervala      Agra     Khandari   \n1       Mama Chicken Mama Franky House      Agra   Agra Cantt   \n2                        Bhagat Halwai      Agra     Shahganj   \n3                        Bhagat Halwai      Agra  Civil Lines   \n4          The Salt Cafe Kitchen & Bar      Agra      Tajganj   \n...                                ...       ...          ...   \n211882           Shree Janta Ice Cream  Vadodara    Manjalpur   \n211925                The Grand Thakar  Vadodara     Alkapuri   \n211926                     Geeta lodge  Vadodara     Alkapuri   \n211940                      Raju Omlet  Vadodara   Karelibaug   \n211942                          Subway  Vadodara        Akota   \n\n                                                 cuisines  \\\n0       North Indian, South Indian, Mithai, Street Foo...   \n1       North Indian, Mughlai, Rolls, Chinese, Fast Fo...   \n2                                       Fast Food, Mithai   \n3               Desserts, Bakery, Fast Food, South Indian   \n4                      North Indian, Continental, Italian   \n...                                                   ...   \n211882                                          Ice Cream   \n211925                    Gujarati, North Indian, Chinese   \n211926                              Gujarati, Street Food   \n211940                                          Fast Food   \n211942                         Fast Food, Sandwich, Salad   \n\n        average_cost_for_two  aggregate_rating rating_text  votes  photo_count  \n0                        700               4.4   Very Good    814          154  \n1                        600               4.4   Very Good   1203          161  \n2                        300               4.2   Very Good    801          107  \n3                        300               4.3   Very Good    693          157  \n4                       1000               4.9   Excellent    470          291  \n...                      ...               ...         ...    ...          ...  \n211882                   200               2.9     Average      4            1  \n211925                   700               4.0   Very Good    111           38  \n211926                   250               3.9        Good    207           14  \n211940                   300               4.1   Very Good    187           40  \n211942                   500               3.7        Good    128           34  \n\n[56185 rows x 9 columns]",
      "text/html": "<div>\n<style scoped>\n    .dataframe tbody tr th:only-of-type {\n        vertical-align: middle;\n    }\n\n    .dataframe tbody tr th {\n        vertical-align: top;\n    }\n\n    .dataframe thead th {\n        text-align: right;\n    }\n</style>\n<table border=\"1\" class=\"dataframe\">\n  <thead>\n    <tr style=\"text-align: right;\">\n      <th></th>\n      <th>name</th>\n      <th>city</th>\n      <th>locality</th>\n      <th>cuisines</th>\n      <th>average_cost_for_two</th>\n      <th>aggregate_rating</th>\n      <th>rating_text</th>\n      <th>votes</th>\n      <th>photo_count</th>\n    </tr>\n  </thead>\n  <tbody>\n    <tr>\n      <th>0</th>\n      <td>Bikanervala</td>\n      <td>Agra</td>\n      <td>Khandari</td>\n      <td>North Indian, South Indian, Mithai, Street Foo...</td>\n      <td>700</td>\n      <td>4.4</td>\n      <td>Very Good</td>\n      <td>814</td>\n      <td>154</td>\n    </tr>\n    <tr>\n      <th>1</th>\n      <td>Mama Chicken Mama Franky House</td>\n      <td>Agra</td>\n      <td>Agra Cantt</td>\n      <td>North Indian, Mughlai, Rolls, Chinese, Fast Fo...</td>\n      <td>600</td>\n      <td>4.4</td>\n      <td>Very Good</td>\n      <td>1203</td>\n      <td>161</td>\n    </tr>\n    <tr>\n      <th>2</th>\n      <td>Bhagat Halwai</td>\n      <td>Agra</td>\n      <td>Shahganj</td>\n      <td>Fast Food, Mithai</td>\n      <td>300</td>\n      <td>4.2</td>\n      <td>Very Good</td>\n      <td>801</td>\n      <td>107</td>\n    </tr>\n    <tr>\n      <th>3</th>\n      <td>Bhagat Halwai</td>\n      <td>Agra</td>\n      <td>Civil Lines</td>\n      <td>Desserts, Bakery, Fast Food, South Indian</td>\n      <td>300</td>\n      <td>4.3</td>\n      <td>Very Good</td>\n      <td>693</td>\n      <td>157</td>\n    </tr>\n    <tr>\n      <th>4</th>\n      <td>The Salt Cafe Kitchen &amp; Bar</td>\n      <td>Agra</td>\n      <td>Tajganj</td>\n      <td>North Indian, Continental, Italian</td>\n      <td>1000</td>\n      <td>4.9</td>\n      <td>Excellent</td>\n      <td>470</td>\n      <td>291</td>\n    </tr>\n    <tr>\n      <th>...</th>\n      <td>...</td>\n      <td>...</td>\n      <td>...</td>\n      <td>...</td>\n      <td>...</td>\n      <td>...</td>\n      <td>...</td>\n      <td>...</td>\n      <td>...</td>\n    </tr>\n    <tr>\n      <th>211882</th>\n      <td>Shree Janta Ice Cream</td>\n      <td>Vadodara</td>\n      <td>Manjalpur</td>\n      <td>Ice Cream</td>\n      <td>200</td>\n      <td>2.9</td>\n      <td>Average</td>\n      <td>4</td>\n      <td>1</td>\n    </tr>\n    <tr>\n      <th>211925</th>\n      <td>The Grand Thakar</td>\n      <td>Vadodara</td>\n      <td>Alkapuri</td>\n      <td>Gujarati, North Indian, Chinese</td>\n      <td>700</td>\n      <td>4.0</td>\n      <td>Very Good</td>\n      <td>111</td>\n      <td>38</td>\n    </tr>\n    <tr>\n      <th>211926</th>\n      <td>Geeta lodge</td>\n      <td>Vadodara</td>\n      <td>Alkapuri</td>\n      <td>Gujarati, Street Food</td>\n      <td>250</td>\n      <td>3.9</td>\n      <td>Good</td>\n      <td>207</td>\n      <td>14</td>\n    </tr>\n    <tr>\n      <th>211940</th>\n      <td>Raju Omlet</td>\n      <td>Vadodara</td>\n      <td>Karelibaug</td>\n      <td>Fast Food</td>\n      <td>300</td>\n      <td>4.1</td>\n      <td>Very Good</td>\n      <td>187</td>\n      <td>40</td>\n    </tr>\n    <tr>\n      <th>211942</th>\n      <td>Subway</td>\n      <td>Vadodara</td>\n      <td>Akota</td>\n      <td>Fast Food, Sandwich, Salad</td>\n      <td>500</td>\n      <td>3.7</td>\n      <td>Good</td>\n      <td>128</td>\n      <td>34</td>\n    </tr>\n  </tbody>\n</table>\n<p>56185 rows × 9 columns</p>\n</div>"
     },
     "execution_count": 27,
     "metadata": {},
     "output_type": "execute_result"
    }
   ],
   "source": [
    "df"
   ],
   "metadata": {
    "collapsed": false,
    "ExecuteTime": {
     "end_time": "2024-04-09T09:58:27.198179Z",
     "start_time": "2024-04-09T09:58:27.182357Z"
    }
   },
   "execution_count": 27
  },
  {
   "cell_type": "code",
   "outputs": [
    {
     "name": "stdout",
     "output_type": "stream",
     "text": [
      "<class 'pandas.core.frame.DataFrame'>\n",
      "Index: 56185 entries, 0 to 211942\n",
      "Data columns (total 9 columns):\n",
      " #   Column                Non-Null Count  Dtype\n",
      "---  ------                --------------  -----\n",
      " 0   name                  56185 non-null  bool \n",
      " 1   city                  56185 non-null  bool \n",
      " 2   locality              56185 non-null  bool \n",
      " 3   cuisines              56185 non-null  bool \n",
      " 4   average_cost_for_two  56185 non-null  bool \n",
      " 5   aggregate_rating      56185 non-null  bool \n",
      " 6   rating_text           56185 non-null  bool \n",
      " 7   votes                 56185 non-null  bool \n",
      " 8   photo_count           56185 non-null  bool \n",
      "dtypes: bool(9)\n",
      "memory usage: 932.8 KB\n"
     ]
    }
   ],
   "source": [
    "df.isna().info()"
   ],
   "metadata": {
    "collapsed": false,
    "ExecuteTime": {
     "end_time": "2024-04-09T09:58:43.580487Z",
     "start_time": "2024-04-09T09:58:43.553366Z"
    }
   },
   "execution_count": 29
  },
  {
   "cell_type": "code",
   "outputs": [],
   "source": [
    "\n"
   ],
   "metadata": {
    "collapsed": false
   }
  }
 ],
 "metadata": {
  "kernelspec": {
   "display_name": "Python 3",
   "language": "python",
   "name": "python3"
  },
  "language_info": {
   "codemirror_mode": {
    "name": "ipython",
    "version": 3
   },
   "file_extension": ".py",
   "mimetype": "text/x-python",
   "name": "python",
   "nbconvert_exporter": "python",
   "pygments_lexer": "ipython3",
   "version": "3.12.2"
  }
 },
 "nbformat": 4,
 "nbformat_minor": 2
}
